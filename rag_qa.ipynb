{
 "cells": [
  {
   "cell_type": "markdown",
   "id": "23f61132-f76f-444b-932f-2d2ddb2ec63a",
   "metadata": {},
   "source": [
    "# Question-Answering with RAG "
   ]
  },
  {
   "cell_type": "markdown",
   "id": "02243538-5a8d-4d40-8c58-5b79f4822d9e",
   "metadata": {},
   "source": [
    "Here is a RAG Pipeline from start to finish. The first one is about question-answering. \n",
    "We'll get answers from wikipedia's \"Seven wonders\"-page."
   ]
  },
  {
   "cell_type": "code",
   "execution_count": 1,
   "id": "d6e94009-ad2f-489e-8105-662ff6e75ac9",
   "metadata": {},
   "outputs": [
    {
     "name": "stderr",
     "output_type": "stream",
     "text": [
      "/home/olav/dev/miniconda3/envs/dotprod/lib/python3.11/site-packages/tqdm/auto.py:21: TqdmWarning: IProgress not found. Please update jupyter and ipywidgets. See https://ipywidgets.readthedocs.io/en/stable/user_install.html\n",
      "  from .autonotebook import tqdm as notebook_tqdm\n",
      "/home/olav/dev/miniconda3/envs/dotprod/lib/python3.11/site-packages/transformers/utils/generic.py:441: UserWarning: torch.utils._pytree._register_pytree_node is deprecated. Please use torch.utils._pytree.register_pytree_node instead.\n",
      "  _torch_pytree._register_pytree_node(\n",
      "/home/olav/dev/miniconda3/envs/dotprod/lib/python3.11/site-packages/transformers/utils/generic.py:309: UserWarning: torch.utils._pytree._register_pytree_node is deprecated. Please use torch.utils._pytree.register_pytree_node instead.\n",
      "  _torch_pytree._register_pytree_node(\n",
      "/home/olav/dev/miniconda3/envs/dotprod/lib/python3.11/site-packages/transformers/utils/generic.py:309: UserWarning: torch.utils._pytree._register_pytree_node is deprecated. Please use torch.utils._pytree.register_pytree_node instead.\n",
      "  _torch_pytree._register_pytree_node(\n"
     ]
    }
   ],
   "source": [
    "from haystack.document_stores import InMemoryDocumentStore\n",
    "\n",
    "document_store = InMemoryDocumentStore(use_bm25=True)\n"
   ]
  },
  {
   "cell_type": "code",
   "execution_count": 2,
   "id": "c7850f4c-00f7-4323-b25b-dba88c504d21",
   "metadata": {},
   "outputs": [
    {
     "ename": "ModuleNotFoundError",
     "evalue": "No module named 'datasets'",
     "output_type": "error",
     "traceback": [
      "\u001b[0;31m---------------------------------------------------------------------------\u001b[0m",
      "\u001b[0;31mModuleNotFoundError\u001b[0m                       Traceback (most recent call last)",
      "Cell \u001b[0;32mIn[2], line 1\u001b[0m\n\u001b[0;32m----> 1\u001b[0m \u001b[38;5;28;01mfrom\u001b[39;00m \u001b[38;5;21;01mdatasets\u001b[39;00m \u001b[38;5;28;01mimport\u001b[39;00m load_dataset\n\u001b[1;32m      3\u001b[0m dataset \u001b[38;5;241m=\u001b[39m load_dataset(\u001b[38;5;124m\"\u001b[39m\u001b[38;5;124mbilgeyucel/seven-wonders\u001b[39m\u001b[38;5;124m\"\u001b[39m, split\u001b[38;5;241m=\u001b[39m\u001b[38;5;124m\"\u001b[39m\u001b[38;5;124mtrain\u001b[39m\u001b[38;5;124m\"\u001b[39m)\n\u001b[1;32m      5\u001b[0m document_store\u001b[38;5;241m.\u001b[39mwrite_documents(dataset)\n",
      "\u001b[0;31mModuleNotFoundError\u001b[0m: No module named 'datasets'"
     ]
    }
   ],
   "source": [
    "from datasets import load_dataset\n",
    "\n",
    "dataset = load_dataset(\"bilgeyucel/seven-wonders\", split=\"train\")\n",
    "\n",
    "document_store.write_documents(dataset)\n"
   ]
  },
  {
   "cell_type": "code",
   "execution_count": 11,
   "id": "597e4d24-28ae-48f7-914c-04e3739dcd2f",
   "metadata": {},
   "outputs": [],
   "source": [
    "from haystack.nodes import BM25Retriever\n",
    "\n",
    "retriever = BM25Retriever(document_store=document_store, top_k=2)\n"
   ]
  },
  {
   "cell_type": "code",
   "execution_count": 12,
   "id": "86017acf-3dc7-4f88-9784-01b86bc35eb3",
   "metadata": {},
   "outputs": [],
   "source": [
    "from haystack.nodes import FARMReader\n",
    "\n",
    "reader = FARMReader(model_name_or_path=\"deepset/roberta-base-squad2\", use_gpu=True)\n"
   ]
  },
  {
   "cell_type": "code",
   "execution_count": 13,
   "id": "13263489-79d0-4310-b5ed-cd920fdf6168",
   "metadata": {},
   "outputs": [],
   "source": [
    "from haystack.pipelines import ExtractiveQAPipeline\n",
    "\n",
    "pipe = ExtractiveQAPipeline(reader, retriever)"
   ]
  },
  {
   "cell_type": "code",
   "execution_count": 1,
   "id": "38d01f2d-58c1-4ef2-8b8b-e35ab46f6ca8",
   "metadata": {},
   "outputs": [
    {
     "ename": "ModuleNotFoundError",
     "evalue": "No module named 'haystack'",
     "output_type": "error",
     "traceback": [
      "\u001b[0;31m---------------------------------------------------------------------------\u001b[0m",
      "\u001b[0;31mModuleNotFoundError\u001b[0m                       Traceback (most recent call last)",
      "Cell \u001b[0;32mIn[1], line 1\u001b[0m\n\u001b[0;32m----> 1\u001b[0m \u001b[38;5;28;01mfrom\u001b[39;00m \u001b[38;5;21;01mhaystack\u001b[39;00m\u001b[38;5;21;01m.\u001b[39;00m\u001b[38;5;21;01mutils\u001b[39;00m \u001b[38;5;28;01mimport\u001b[39;00m print_answers\n\u001b[1;32m      3\u001b[0m prediction \u001b[38;5;241m=\u001b[39m pipe\u001b[38;5;241m.\u001b[39mrun(\n\u001b[1;32m      4\u001b[0m     query\u001b[38;5;241m=\u001b[39m\u001b[38;5;124m\"\u001b[39m\u001b[38;5;124mWho is the architect behind the great pyramid of Giza?\u001b[39m\u001b[38;5;124m\"\u001b[39m, params\u001b[38;5;241m=\u001b[39m{\u001b[38;5;124m\"\u001b[39m\u001b[38;5;124mRetriever\u001b[39m\u001b[38;5;124m\"\u001b[39m: {\u001b[38;5;124m\"\u001b[39m\u001b[38;5;124mtop_k\u001b[39m\u001b[38;5;124m\"\u001b[39m: \u001b[38;5;241m10\u001b[39m}, \u001b[38;5;124m\"\u001b[39m\u001b[38;5;124mReader\u001b[39m\u001b[38;5;124m\"\u001b[39m: {\u001b[38;5;124m\"\u001b[39m\u001b[38;5;124mtop_k\u001b[39m\u001b[38;5;124m\"\u001b[39m: \u001b[38;5;241m10\u001b[39m}}\n\u001b[1;32m      5\u001b[0m )\n\u001b[1;32m      6\u001b[0m print_answers(prediction, details\u001b[38;5;241m=\u001b[39m\u001b[38;5;124m\"\u001b[39m\u001b[38;5;124mminimum\u001b[39m\u001b[38;5;124m\"\u001b[39m)\n",
      "\u001b[0;31mModuleNotFoundError\u001b[0m: No module named 'haystack'"
     ]
    }
   ],
   "source": [
    "from haystack.utils import print_answers\n",
    "\n",
    "prediction = pipe.run(\n",
    "    query=\"Who is the architect behind the great pyramid of Giza?\", params={\"Retriever\": {\"top_k\": 10}, \"Reader\": {\"top_k\": 10}}\n",
    ")\n",
    "print_answers(prediction, details=\"minimum\")\n"
   ]
  },
  {
   "cell_type": "markdown",
   "id": "0c1df52d-4438-4d08-96b4-1041f7f07768",
   "metadata": {},
   "source": [
    "Here we can see that\n",
    "{   **'answer': 'Hemiunu**',\n",
    "        'context': 'phagus, are above ground, within the pyramid structure. '\n",
    "                   \"Khufu's vizier, Hemiunu (also called Hemon), is believed \"\n",
    "                   'by some to be the architect of the Gr'}\n",
    "\n",
    "                   \n",
    "Was the top anser. Which is indeed correct."
   ]
  }
 ],
 "metadata": {
  "kernelspec": {
   "display_name": "dotprod",
   "language": "python",
   "name": "dotprod"
  },
  "language_info": {
   "codemirror_mode": {
    "name": "ipython",
    "version": 3
   },
   "file_extension": ".py",
   "mimetype": "text/x-python",
   "name": "python",
   "nbconvert_exporter": "python",
   "pygments_lexer": "ipython3",
   "version": "3.11.5"
  }
 },
 "nbformat": 4,
 "nbformat_minor": 5
}
