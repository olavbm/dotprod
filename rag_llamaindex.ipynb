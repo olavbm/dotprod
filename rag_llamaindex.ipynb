{
 "cells": [
  {
   "cell_type": "markdown",
   "id": "90aac99e-d967-4870-8a7e-617fcd0abba1",
   "metadata": {},
   "source": [
    "# LLaMA index using Ollama"
   ]
  },
  {
   "cell_type": "markdown",
   "id": "53f52bd5-18c4-4e37-854a-edd8981fb82a",
   "metadata": {},
   "source": [
    "Her laster vi dokument på norsk(markens grøde) i mappen \"data\". Deretter bruker vi llamaindex for å spørre litt hva som skjedde i historien og karakterene rundt."
   ]
  },
  {
   "cell_type": "code",
   "execution_count": 1,
   "id": "ed34a3d1-43e0-4536-a119-3595e3c345b9",
   "metadata": {},
   "outputs": [
    {
     "name": "stderr",
     "output_type": "stream",
     "text": [
      "/home/olav/dev/miniconda3/envs/dotprod/lib/python3.11/site-packages/tqdm/auto.py:21: TqdmWarning: IProgress not found. Please update jupyter and ipywidgets. See https://ipywidgets.readthedocs.io/en/stable/user_install.html\n",
      "  from .autonotebook import tqdm as notebook_tqdm\n"
     ]
    }
   ],
   "source": [
    "from llama_index.core import VectorStoreIndex, SimpleDirectoryReader, Settings\n",
    "from llama_index.core.embeddings import resolve_embed_model\n",
    "from llama_index.llms.ollama import Ollama\n",
    "\n",
    "documents = SimpleDirectoryReader(\"data/hdir\").load_data()\n",
    "\n",
    "# bge-m3 embedding model\n",
    "Settings.embed_model = resolve_embed_model(\"local:BAAI/bge-large-en-v1.5\")\n",
    "\n",
    "# ollama\n",
    "Settings.llm = Ollama(model=\"mistral\", request_timeout=30.0)\n",
    "\n",
    "index = VectorStoreIndex.from_documents(\n",
    "    documents,\n",
    ")"
   ]
  },
  {
   "cell_type": "code",
   "execution_count": 3,
   "id": "3e48fd60-141c-4ae2-b2f3-c36e5e54f25b",
   "metadata": {},
   "outputs": [],
   "source": [
    "query_engine = index.as_query_engine()"
   ]
  },
  {
   "cell_type": "markdown",
   "id": "dbcc7e85-f776-4a79-8572-a5d2c31ad7b0",
   "metadata": {},
   "source": [
    "## Spørsmål angående Markens Grøde"
   ]
  },
  {
   "cell_type": "code",
   "execution_count": 18,
   "id": "8a12b9b6-ae74-4589-a994-a8978fdaf342",
   "metadata": {},
   "outputs": [
    {
     "name": "stdout",
     "output_type": "stream",
     "text": [
      " In the provided text, there are several characters mentioned, including Sivert, Aronsen, Fuldmægtig Andresen, Eleseus, and Markboen. It is not explicitly stated that these characters are the main or primary characters in the context of \"Markens Grøde,\" but based on their significant roles and actions within the text, it can be inferred that they are likely among the key figures in the story. Therefore, Sivert, Aronsen, Fuldmægtig Andresen, Eleseus, and Markboen are potential hovedkarakterer (main characters) in \"Markens Grøde.\"\n"
     ]
    }
   ],
   "source": [
    "print(query_engine.query(\"Hvem er hovedkarakterene i Markens Grøde?\"))"
   ]
  },
  {
   "cell_type": "code",
   "execution_count": 19,
   "id": "9e4c932f-3b2c-441d-b024-62d08953be20",
   "metadata": {},
   "outputs": [
    {
     "name": "stdout",
     "output_type": "stream",
     "text": [
      " Isak is a character in the text presented in the context information. He is described as a man who clears the forest and builds, comes from Markensgrøde, and interacts with Inger and a foreign woman among others.\n"
     ]
    }
   ],
   "source": [
    "print(query_engine.query(\"Hvem er Isak?\"))"
   ]
  },
  {
   "cell_type": "code",
   "execution_count": 29,
   "id": "30d92e5c-f66d-4493-ab3a-266c06dbe378",
   "metadata": {},
   "outputs": [
    {
     "name": "stdout",
     "output_type": "stream",
     "text": [
      " Based on the provided text, it is mentioned that Inger and Isak live together in a community, as indicated by their interactions and references to their home. However, there is no explicit mention of any other individuals residing with them in the given context. Therefore, Isak appears to be living with Inger.\n"
     ]
    }
   ],
   "source": [
    "print(query_engine.query(\"Hvem bor Isak med?\"))"
   ]
  },
  {
   "cell_type": "code",
   "execution_count": 30,
   "id": "851d808b-cbfc-45a4-b3ea-cde4b0981859",
   "metadata": {},
   "outputs": [
    {
     "name": "stdout",
     "output_type": "stream",
     "text": [
      " In the text, Inger interacts with different individuals and experiences various emotions. She becomes angry with someone named Oline and accuses her of causing problems. Later, Inger questions Isak about an encounter with the devil and expresses concern for his well-being. Additionally, she scolds Isak for going alone into the woods and shows care for him. However, without prior knowledge, it is not possible to determine exactly what happens to Inger throughout the entirety of the text.\n"
     ]
    }
   ],
   "source": [
    "print(query_engine.query(\"Hva skjer med Inger?\"))"
   ]
  },
  {
   "cell_type": "code",
   "execution_count": 36,
   "id": "f8d8c261-c244-4541-ac69-9861160c4bc7",
   "metadata": {},
   "outputs": [
    {
     "name": "stdout",
     "output_type": "stream",
     "text": [
      " Based on the context provided, it appears that Isak is a character in the text and does not have a specific location identified as his farm or yard. The text describes some interactions between Isak, Inger, Brede, and other characters, but there is no mention of a specific location belonging to Isak.\n"
     ]
    }
   ],
   "source": [
    "print(query_engine.query(\"Hvor er gården til Isak?\"))"
   ]
  },
  {
   "cell_type": "code",
   "execution_count": 45,
   "id": "0edb2a2b-1085-4bc1-bfd4-2eee71937bca",
   "metadata": {},
   "outputs": [
    {
     "name": "stdout",
     "output_type": "stream",
     "text": [
      " The text does not provide any information about whether Isak and Inger have children or not.\n"
     ]
    }
   ],
   "source": [
    "print(query_engine.query(\"Får Isak og Inger barn?\"))"
   ]
  },
  {
   "cell_type": "markdown",
   "id": "e33cadde-4d07-4454-8b2e-9a776db4a153",
   "metadata": {},
   "source": [
    "## Spørsmål og pipeline angående «Alvorlig sykt barn».\n",
    "\n",
    "Nå går vi over til datasettet for utlysningen i [0] (norsk) og [1] (engelsk). Selv om vi ikke bruker spesifikt trente moddeller på norsk fungerer det overraskende godt.\n",
    "\n",
    "\n",
    "\n",
    "\n",
    "[0] https://www.soprasteria.no/dette-kan-vi/prosjekter/details/helsedirektoratet-helhetlige-tjenester-for-alvorlig-syke-barn-med-behov-for-sammensatte-tjenester\n",
    "\n",
    "\n",
    "[1] https://www.eggsdesign.com/no/work/case/holistic-public-services-for-severely-ill-children"
   ]
  },
  {
   "cell_type": "code",
   "execution_count": 7,
   "id": "3736de30-7f4e-4904-b5fe-58b444b664cd",
   "metadata": {},
   "outputs": [
    {
     "name": "stdout",
     "output_type": "stream",
     "text": [
      " Livshendelsen Alvorlig Sykt Barn, or Severe Ill Child in English, is a national Norwegian digitalisation strategy that prioritizes the development of seamless and holistic public services for children with complex needs and their families. The project is coordinated by the Norwegian Directorate of Health, with EGGS Design assisting in identifying challenges, exploring new ways of working, and testing interventions to create a collaborative ecosystem across sectors and departments. The goal is to help families receive adequate support without having to spend significant time coordinating services themselves.\n"
     ]
    }
   ],
   "source": [
    "print(query_engine.query(\"What is Livshendelsen Alvorlig Sykt Barn? What is the project about?\"))"
   ]
  },
  {
   "cell_type": "code",
   "execution_count": 8,
   "id": "83dfd8c3-1351-4e32-a544-4d98a168826a",
   "metadata": {},
   "outputs": [
    {
     "name": "stdout",
     "output_type": "stream",
     "text": [
      " On average, parents spend 19 hours per week coordinating the services for their children with complex needs.\n"
     ]
    }
   ],
   "source": [
    "print(query_engine.query(\"How many hours do parents spend coordinating the existing services?\"))"
   ]
  },
  {
   "cell_type": "code",
   "execution_count": 9,
   "id": "6fce0ffe-9cff-4872-9ab0-e58efced5e03",
   "metadata": {},
   "outputs": [
    {
     "name": "stdout",
     "output_type": "stream",
     "text": [
      " The text describes a process of analyzing and understanding complex systems related to health and welfare services in Norway. The goal was to improve communication and collaboration between various stakeholders involved, from families to policymakers and service providers. Through experimentation and analysis, they identified 45 potential interventions, one of which has already been implemented: \"Rett på,\" aiming to make information about children's and young people's rights more accessible. The clear overview provided by this work helps keep the focus on families and enables the prioritization and tracking of interventions.\n"
     ]
    }
   ],
   "source": [
    "print(query_engine.query(\"Can you sum up the problem statement?\"))"
   ]
  },
  {
   "cell_type": "code",
   "execution_count": 11,
   "id": "5ea6c3fe-ec0f-492b-bdb9-13048eded88e",
   "metadata": {},
   "outputs": [
    {
     "name": "stdout",
     "output_type": "stream",
     "text": [
      " Based on the information provided in the context, some additional alternatives and initiatives that could potentially be helpful in addressing the challenges faced by families of children with complex needs include:\n",
      "\n",
      "1. Improving communication and collaboration between different sectors and public services providers to streamline the delivery of support services.\n",
      "2. Developing a centralized platform or database to facilitate information sharing and coordination among stakeholders involved in the care and support of these children and their families.\n",
      "3. Creating cross-functional teams or task forces to address specific challenges and develop solutions collaboratively.\n",
      "4. Implementing technology solutions, such as telehealth and remote monitoring, to improve accessibility and convenience for families and healthcare providers.\n",
      "5. Offering training and education programs for public servants and caregivers on best practices for working with families of children with complex needs.\n",
      "6. Providing financial support or subsidies to families to help cover the costs of coordinating services and managing their child's care.\n",
      "7. Developing partnerships with community organizations and non-profit groups to provide additional resources and support to families.\n",
      "8. Conducting regular evaluations and assessments of existing programs and interventions to identify areas for improvement and optimization.\n",
      "9. Implementing policies and procedures that prioritize the needs and perspectives of families in the design and delivery of services.\n",
      "10. Providing mental health and counseling services to help families cope with the emotional and psychological challenges of caring for a child with complex needs.\n"
     ]
    }
   ],
   "source": [
    "print(query_engine.query(\"Can you please come up with some more helping alternatives and initiatives?\"))"
   ]
  },
  {
   "cell_type": "code",
   "execution_count": null,
   "id": "b07c48d2-e82d-4733-9c5b-c3a05a1701fb",
   "metadata": {},
   "outputs": [],
   "source": []
  }
 ],
 "metadata": {
  "kernelspec": {
   "display_name": "dotprod",
   "language": "python",
   "name": "dotprod"
  },
  "language_info": {
   "codemirror_mode": {
    "name": "ipython",
    "version": 3
   },
   "file_extension": ".py",
   "mimetype": "text/x-python",
   "name": "python",
   "nbconvert_exporter": "python",
   "pygments_lexer": "ipython3",
   "version": "3.11.5"
  }
 },
 "nbformat": 4,
 "nbformat_minor": 5
}
